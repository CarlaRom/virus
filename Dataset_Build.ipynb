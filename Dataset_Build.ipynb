{
 "cells": [
  {
   "cell_type": "code",
   "execution_count": 54,
   "metadata": {},
   "outputs": [],
   "source": [
    "import pandas as pd\n",
    "import numpy as np\n",
    "import Bio\n",
    "from Bio.Seq import Seq\n",
    "from Bio import SeqIO\n",
    "import gzip"
   ]
  },
  {
   "cell_type": "code",
   "execution_count": 60,
   "metadata": {},
   "outputs": [
    {
     "data": {
      "text/html": [
       "<div>\n",
       "<style scoped>\n",
       "    .dataframe tbody tr th:only-of-type {\n",
       "        vertical-align: middle;\n",
       "    }\n",
       "\n",
       "    .dataframe tbody tr th {\n",
       "        vertical-align: top;\n",
       "    }\n",
       "\n",
       "    .dataframe thead th {\n",
       "        text-align: right;\n",
       "    }\n",
       "</style>\n",
       "<table border=\"1\" class=\"dataframe\">\n",
       "  <thead>\n",
       "    <tr style=\"text-align: right;\">\n",
       "      <th></th>\n",
       "      <th>ID</th>\n",
       "      <th>description</th>\n",
       "      <th>host</th>\n",
       "      <th>seq</th>\n",
       "      <th>disease</th>\n",
       "      <th>disease_location</th>\n",
       "    </tr>\n",
       "  </thead>\n",
       "  <tbody>\n",
       "  </tbody>\n",
       "</table>\n",
       "</div>"
      ],
      "text/plain": [
       "Empty DataFrame\n",
       "Columns: [ID, description, host, seq, disease, disease_location]\n",
       "Index: []"
      ]
     },
     "execution_count": 60,
     "metadata": {},
     "output_type": "execute_result"
    }
   ],
   "source": [
    "# create annotated virus dataframe\n",
    "df = pd.DataFrame(columns = ['ID', 'description', 'host', 'seq', 'disease', 'disease_location'])\n",
    "df"
   ]
  },
  {
   "cell_type": "code",
   "execution_count": 58,
   "metadata": {},
   "outputs": [
    {
     "name": "stdout",
     "output_type": "stream",
     "text": [
      "NC_001798.2 Human herpesvirus 2 strain HG52, complete genome\n",
      "NC_030692.1 Borna disease virus 2, complete genome\n",
      "NC_027892.1 Canary bornavirus 2, complete cds\n",
      "NC_029642.1 Aquatic bird bornavirus 1, complete genome\n",
      "NC_001607.1 Borna disease virus 1, complete sequence\n",
      "NC_001422.1 Coliphage phi-X174, complete genome\n"
     ]
    }
   ],
   "source": [
    "#After downloading viral genomes from NCBI, then load viral seq in fasta format \n",
    "#This is only an example loading one of the files with n viral genomes in fasta, all files need to be loaded (TODO)\n",
    "for record in SeqIO.parse(\"viral.1.1.genomic.fna\", 'fasta'):\n",
    "    print(record.description)\n",
    "    df = df.append({'ID': record.id, 'description': record.description, 'seq': record.seq }, ignore_index = True)"
   ]
  },
  {
   "cell_type": "code",
   "execution_count": 59,
   "metadata": {},
   "outputs": [
    {
     "data": {
      "text/html": [
       "<div>\n",
       "<style scoped>\n",
       "    .dataframe tbody tr th:only-of-type {\n",
       "        vertical-align: middle;\n",
       "    }\n",
       "\n",
       "    .dataframe tbody tr th {\n",
       "        vertical-align: top;\n",
       "    }\n",
       "\n",
       "    .dataframe thead th {\n",
       "        text-align: right;\n",
       "    }\n",
       "</style>\n",
       "<table border=\"1\" class=\"dataframe\">\n",
       "  <thead>\n",
       "    <tr style=\"text-align: right;\">\n",
       "      <th></th>\n",
       "      <th>ID</th>\n",
       "      <th>description</th>\n",
       "      <th>host</th>\n",
       "      <th>seq</th>\n",
       "      <th>disease</th>\n",
       "      <th>disease_location</th>\n",
       "    </tr>\n",
       "  </thead>\n",
       "  <tbody>\n",
       "    <tr>\n",
       "      <th>0</th>\n",
       "      <td>NC_001798.2</td>\n",
       "      <td>NC_001798.2 Human herpesvirus 2 strain HG52, c...</td>\n",
       "      <td>NaN</td>\n",
       "      <td>(A, G, T, C, C, C, C, G, T, C, T, T, G, C, C, ...</td>\n",
       "      <td>NaN</td>\n",
       "      <td>NaN</td>\n",
       "    </tr>\n",
       "    <tr>\n",
       "      <th>1</th>\n",
       "      <td>NC_030692.1</td>\n",
       "      <td>NC_030692.1 Borna disease virus 2, complete ge...</td>\n",
       "      <td>NaN</td>\n",
       "      <td>(T, G, T, T, G, C, G, T, T, A, A, C, A, A, C, ...</td>\n",
       "      <td>NaN</td>\n",
       "      <td>NaN</td>\n",
       "    </tr>\n",
       "    <tr>\n",
       "      <th>2</th>\n",
       "      <td>NC_027892.1</td>\n",
       "      <td>NC_027892.1 Canary bornavirus 2, complete cds</td>\n",
       "      <td>NaN</td>\n",
       "      <td>(C, A, G, C, T, C, T, C, G, C, A, C, C, A, A, ...</td>\n",
       "      <td>NaN</td>\n",
       "      <td>NaN</td>\n",
       "    </tr>\n",
       "    <tr>\n",
       "      <th>3</th>\n",
       "      <td>NC_029642.1</td>\n",
       "      <td>NC_029642.1 Aquatic bird bornavirus 1, complet...</td>\n",
       "      <td>NaN</td>\n",
       "      <td>(T, G, T, T, G, C, G, T, T, A, A, C, A, A, C, ...</td>\n",
       "      <td>NaN</td>\n",
       "      <td>NaN</td>\n",
       "    </tr>\n",
       "    <tr>\n",
       "      <th>4</th>\n",
       "      <td>NC_001607.1</td>\n",
       "      <td>NC_001607.1 Borna disease virus 1, complete se...</td>\n",
       "      <td>NaN</td>\n",
       "      <td>(G, T, T, G, C, G, T, T, A, A, C, A, A, C, A, ...</td>\n",
       "      <td>NaN</td>\n",
       "      <td>NaN</td>\n",
       "    </tr>\n",
       "  </tbody>\n",
       "</table>\n",
       "</div>"
      ],
      "text/plain": [
       "            ID                                        description host  \\\n",
       "0  NC_001798.2  NC_001798.2 Human herpesvirus 2 strain HG52, c...  NaN   \n",
       "1  NC_030692.1  NC_030692.1 Borna disease virus 2, complete ge...  NaN   \n",
       "2  NC_027892.1      NC_027892.1 Canary bornavirus 2, complete cds  NaN   \n",
       "3  NC_029642.1  NC_029642.1 Aquatic bird bornavirus 1, complet...  NaN   \n",
       "4  NC_001607.1  NC_001607.1 Borna disease virus 1, complete se...  NaN   \n",
       "\n",
       "                                                 seq disease disease_location  \n",
       "0  (A, G, T, C, C, C, C, G, T, C, T, T, G, C, C, ...     NaN              NaN  \n",
       "1  (T, G, T, T, G, C, G, T, T, A, A, C, A, A, C, ...     NaN              NaN  \n",
       "2  (C, A, G, C, T, C, T, C, G, C, A, C, C, A, A, ...     NaN              NaN  \n",
       "3  (T, G, T, T, G, C, G, T, T, A, A, C, A, A, C, ...     NaN              NaN  \n",
       "4  (G, T, T, G, C, G, T, T, A, A, C, A, A, C, A, ...     NaN              NaN  "
      ]
     },
     "execution_count": 59,
     "metadata": {},
     "output_type": "execute_result"
    }
   ],
   "source": [
    "df.head()"
   ]
  },
  {
   "cell_type": "code",
   "execution_count": 39,
   "metadata": {},
   "outputs": [],
   "source": [
    "# Annotation of host: open 'viral.1.genomic.gbff.gz' using https://github.com/daler/gffutils and extract /host=\"Homo sapiens\" (TODO) "
   ]
  },
  {
   "cell_type": "code",
   "execution_count": 64,
   "metadata": {},
   "outputs": [
    {
     "data": {
      "text/html": [
       "<div>\n",
       "<style scoped>\n",
       "    .dataframe tbody tr th:only-of-type {\n",
       "        vertical-align: middle;\n",
       "    }\n",
       "\n",
       "    .dataframe tbody tr th {\n",
       "        vertical-align: top;\n",
       "    }\n",
       "\n",
       "    .dataframe thead th {\n",
       "        text-align: right;\n",
       "    }\n",
       "</style>\n",
       "<table border=\"1\" class=\"dataframe\">\n",
       "  <thead>\n",
       "    <tr style=\"text-align: right;\">\n",
       "      <th></th>\n",
       "      <th>ID</th>\n",
       "      <th>substance</th>\n",
       "      <th>SMILE</th>\n",
       "      <th>3D_struct</th>\n",
       "      <th>virus_ID</th>\n",
       "    </tr>\n",
       "  </thead>\n",
       "  <tbody>\n",
       "  </tbody>\n",
       "</table>\n",
       "</div>"
      ],
      "text/plain": [
       "Empty DataFrame\n",
       "Columns: [ID, substance, SMILE, 3D_struct, virus_ID]\n",
       "Index: []"
      ]
     },
     "execution_count": 64,
     "metadata": {},
     "output_type": "execute_result"
    }
   ],
   "source": [
    "# Annotation of antiviral drugs using data from PUBCHEM  (TODO)\n",
    "# create annotated antiviral drugs dataframe\n",
    "drug_df = pd.DataFrame(columns = ['ID', 'substance', 'SMILE', '3D_struct', 'virus_ID'])\n",
    "drug_df\n"
   ]
  },
  {
   "cell_type": "code",
   "execution_count": null,
   "metadata": {
    "collapsed": true
   },
   "outputs": [],
   "source": []
  }
 ],
 "metadata": {
  "kernelspec": {
   "display_name": "Python 3",
   "language": "python",
   "name": "python3"
  },
  "language_info": {
   "codemirror_mode": {
    "name": "ipython",
    "version": 3
   },
   "file_extension": ".py",
   "mimetype": "text/x-python",
   "name": "python",
   "nbconvert_exporter": "python",
   "pygments_lexer": "ipython3",
   "version": "3.6.9"
  }
 },
 "nbformat": 4,
 "nbformat_minor": 2
}
